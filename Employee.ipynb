{
  "nbformat": 4,
  "nbformat_minor": 0,
  "metadata": {
    "colab": {
      "provenance": [],
      "authorship_tag": "ABX9TyOhwfLZs3U7pXd+/Yp8ogtr",
      "include_colab_link": true
    },
    "kernelspec": {
      "name": "python3",
      "display_name": "Python 3"
    },
    "language_info": {
      "name": "python"
    }
  },
  "cells": [
    {
      "cell_type": "markdown",
      "metadata": {
        "id": "view-in-github",
        "colab_type": "text"
      },
      "source": [
        "<a href=\"https://colab.research.google.com/github/LuisMiguelSG/Employee/blob/main/Employee.ipynb\" target=\"_parent\"><img src=\"https://colab.research.google.com/assets/colab-badge.svg\" alt=\"Open In Colab\"/></a>"
      ]
    },
    {
      "cell_type": "code",
      "execution_count": 12,
      "metadata": {
        "id": "DCpBndYbfdbf",
        "colab": {
          "base_uri": "https://localhost:8080/"
        },
        "outputId": "02f43e1f-3765-4dca-b912-c7e266e1c2c7"
      },
      "outputs": [
        {
          "output_type": "stream",
          "name": "stdout",
          "text": [
            "Empleado con id: 1 agregado exitosamente a la reunion\n",
            "Empleado con id: 2 agregado exitosamente a la reunion\n",
            "Empleado con id: 3 agregado exitosamente a la reunion\n",
            "Empleado con id: 4 agregado exitosamente a la reunion\n",
            "# Asistentes a la reunión: 4\n",
            "\n",
            "Mi nombre es: Yoshi y trabajo para la asociacion de agentes secretos.\n",
            "Mi id es, 1\n",
            "\n",
            "Mi nombre es: Snorlax y trabajo para la asociacion de agentes secretos.\n",
            "Mi id es, 2\n",
            "\n",
            "Mi nombre es: Salazar y trabajo para la asociacion de agentes secretos.\n",
            "Mi id es, 3\n",
            "Yo soy un administrador\n",
            "Usuario: 3; Rol: Administrador\n",
            "\n",
            "Mi nombre es: SeñorP y trabajo para la asociacion de agentes secretos.\n",
            "Mi id es, 4\n",
            "Yo soy un administrador\n",
            "Yo soy el jefe\n",
            "Usuario: 4; Rol: Administrador\n"
          ]
        }
      ],
      "source": [
        "from abc import ABC, abstractmethod\n",
        "class AbstractEmployee(ABC):\n",
        "    def __init__(self):\n",
        "        self.id = AbstractEmployee.new_id\n",
        "        AbstractEmployee.new_id += 1\n",
        "    def say_id(self):\n",
        "        pass\n",
        "class Employee(AbstractEmployee):\n",
        "    new_id = 1\n",
        "    def __init__(self):\n",
        "        self.id = Employee.new_id\n",
        "        Employee.new_id += 1\n",
        "        self._name = None\n",
        "        self.__company = \"la asociacion de agentes secretos.\"\n",
        "        str(self.id)\n",
        "    def say_id(self):\n",
        "        print(f\"Mi id es, {self.id}\")\n",
        "    def get_name(self):\n",
        "        return self._name\n",
        "    def set_name(self, name):\n",
        "        self._name = name\n",
        "    def del_name(self):\n",
        "        self._name\n",
        "class User:\n",
        "    def __init__(self, username, role):\n",
        "        self.username = self.id\n",
        "        self.role = role\n",
        "    def say_user_info(self):\n",
        "        print(f\"Usuario: {self.username}; Rol: {self.role}\")\n",
        "class Admin(Employee, User):\n",
        "    def __init__(self, username):\n",
        "        Employee.__init__(self)\n",
        "        User.__init__(self, username, \"Administrador\")\n",
        "    def say_id(self):\n",
        "        super().say_id()\n",
        "        print(\"Yo soy un administrador\")\n",
        "class Manager(Admin):\n",
        "    def __init__(self, username):\n",
        "        super().__init__(username)\n",
        "    def say_id(self):\n",
        "        super().say_id()\n",
        "        print(\"Yo soy el jefe\")\n",
        "class Meeting:\n",
        "    def __init__(self):\n",
        "        self.attendees = []\n",
        "    def __add__(self, employee):\n",
        "        if isinstance(employee, Employee):\n",
        "            self.attendees.append(employee)\n",
        "            print(f\"Empleado con id: {employee.id} agregado exitosamente a la reunion\")\n",
        "        return self\n",
        "    def __len__(self):\n",
        "        return len(self.attendees)\n",
        "e1 = Employee()\n",
        "e2 = Employee()\n",
        "e3 = Admin(\"Bruno\")\n",
        "e4 = Manager(\"Homero\")\n",
        "m1 = Meeting()\n",
        "m1 + e1\n",
        "m1 + e2\n",
        "m1 + e3\n",
        "m1 + e4\n",
        "print(f\"# Asistentes a la reunión: {len(m1)}\")\n",
        "e1.set_name(\"Yoshi\")\n",
        "e2.set_name(\"Snorlax\")\n",
        "e3.set_name(\"Salazar\")\n",
        "e4.set_name(\"SeñorP\")\n",
        "for e in m1.attendees:\n",
        "  print(f\"\\nMi nombre es: {e.get_name()} y trabajo para {e._Employee__company}\")\n",
        "  e.say_id()\n",
        "  try:\n",
        "    e.say_user_info()\n",
        "  except AttributeError:\n",
        "    continue\n",
        "e1.del_name()"
      ]
    },
    {
      "cell_type": "markdown",
      "source": [
        "Presentado por Luis Miguel Sierra Gomezcasseres (luis.sierragc@upb.edu.co)"
      ],
      "metadata": {
        "id": "QHftspgqkiY_"
      }
    }
  ]
}